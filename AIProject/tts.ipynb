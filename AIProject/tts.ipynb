{
 "cells": [
  {
   "cell_type": "code",
   "execution_count": 2,
   "id": "205a9abf",
   "metadata": {},
   "outputs": [
    {
     "name": "stderr",
     "output_type": "stream",
     "text": [
      "Cloning into 'TTS'...\n"
     ]
    }
   ],
   "source": [
    "!git clone https://github.com/mozilla/TTS\n"
   ]
  },
  {
   "cell_type": "code",
   "execution_count": 3,
   "id": "da24a276",
   "metadata": {},
   "outputs": [
    {
     "name": "stdout",
     "output_type": "stream",
     "text": [
      "Collecting gtts\n",
      "  Downloading gTTS-2.5.3-py3-none-any.whl.metadata (4.1 kB)\n",
      "Collecting playsound\n",
      "  Downloading playsound-1.3.0.tar.gz (7.7 kB)\n",
      "  Preparing metadata (setup.py): started\n",
      "  Preparing metadata (setup.py): finished with status 'done'\n",
      "Requirement already satisfied: requests<3,>=2.27 in c:\\project\\deep\\lib\\site-packages (from gtts) (2.32.3)\n",
      "Requirement already satisfied: click<8.2,>=7.1 in c:\\project\\deep\\lib\\site-packages (from gtts) (8.1.7)\n",
      "Requirement already satisfied: colorama in c:\\project\\deep\\lib\\site-packages (from click<8.2,>=7.1->gtts) (0.4.6)\n",
      "Requirement already satisfied: charset-normalizer<4,>=2 in c:\\project\\deep\\lib\\site-packages (from requests<3,>=2.27->gtts) (3.3.2)\n",
      "Requirement already satisfied: idna<4,>=2.5 in c:\\project\\deep\\lib\\site-packages (from requests<3,>=2.27->gtts) (3.7)\n",
      "Requirement already satisfied: urllib3<3,>=1.21.1 in c:\\project\\deep\\lib\\site-packages (from requests<3,>=2.27->gtts) (2.2.2)\n",
      "Requirement already satisfied: certifi>=2017.4.17 in c:\\project\\deep\\lib\\site-packages (from requests<3,>=2.27->gtts) (2024.7.4)\n",
      "Downloading gTTS-2.5.3-py3-none-any.whl (29 kB)\n",
      "Building wheels for collected packages: playsound\n",
      "  Building wheel for playsound (setup.py): started\n",
      "  Building wheel for playsound (setup.py): finished with status 'done'\n",
      "  Created wheel for playsound: filename=playsound-1.3.0-py3-none-any.whl size=7044 sha256=9419bd6f83fdeff05ee99ad9cb8aa91d92ba2d73fb4fd651fba4cf3e92841966\n",
      "  Stored in directory: c:\\users\\admin\\appdata\\local\\pip\\cache\\wheels\\cf\\42\\ff\\7c587bae55eec67b909ca316b250d9b4daedbf272a3cbeb907\n",
      "Successfully built playsound\n",
      "Installing collected packages: playsound, gtts\n",
      "Successfully installed gtts-2.5.3 playsound-1.3.0\n"
     ]
    },
    {
     "name": "stderr",
     "output_type": "stream",
     "text": [
      "DEPRECATION: Loading egg at c:\\project\\deep\\lib\\site-packages\\radam-0.0.1-py3.12.egg is deprecated. pip 24.3 will enforce this behaviour change. A possible replacement is to use pip for package installation. Discussion can be found at https://github.com/pypa/pip/issues/12330\n",
      "\n",
      "[notice] A new release of pip is available: 24.1.2 -> 24.2\n",
      "[notice] To update, run: python.exe -m pip install --upgrade pip\n"
     ]
    }
   ],
   "source": [
    "!pip install gtts playsound\n"
   ]
  },
  {
   "cell_type": "code",
   "execution_count": 4,
   "id": "c288c6b6",
   "metadata": {},
   "outputs": [
    {
     "name": "stdout",
     "output_type": "stream",
     "text": [
      "Saved: tts_outputs/phrase_1.mp3\n",
      "Saved: tts_outputs/phrase_2.mp3\n",
      "Saved: tts_outputs/phrase_3.mp3\n",
      "Saved: tts_outputs/phrase_4.mp3\n",
      "Saved: tts_outputs/phrase_5.mp3\n",
      "Saved: tts_outputs/phrase_6.mp3\n",
      "Saved: tts_outputs/phrase_7.mp3\n",
      "Saved: tts_outputs/phrase_8.mp3\n",
      "Saved: tts_outputs/phrase_9.mp3\n",
      "Saved: tts_outputs/phrase_10.mp3\n",
      "Saved: tts_outputs/phrase_11.mp3\n",
      "Saved: tts_outputs/phrase_12.mp3\n",
      "Saved: tts_outputs/phrase_13.mp3\n",
      "Saved: tts_outputs/phrase_14.mp3\n",
      "Saved: tts_outputs/phrase_15.mp3\n",
      "Saved: tts_outputs/phrase_16.mp3\n",
      "Saved: tts_outputs/phrase_17.mp3\n",
      "Saved: tts_outputs/phrase_18.mp3\n",
      "Saved: tts_outputs/phrase_19.mp3\n",
      "Saved: tts_outputs/phrase_20.mp3\n",
      "Saved: tts_outputs/phrase_21.mp3\n",
      "Saved: tts_outputs/phrase_22.mp3\n",
      "Saved: tts_outputs/phrase_23.mp3\n",
      "Saved: tts_outputs/phrase_24.mp3\n",
      "Saved: tts_outputs/phrase_25.mp3\n",
      "Saved: tts_outputs/phrase_26.mp3\n",
      "Saved: tts_outputs/phrase_27.mp3\n",
      "Saved: tts_outputs/phrase_28.mp3\n",
      "Saved: tts_outputs/phrase_29.mp3\n",
      "Saved: tts_outputs/phrase_30.mp3\n",
      "Saved: tts_outputs/phrase_31.mp3\n",
      "Saved: tts_outputs/phrase_32.mp3\n",
      "Saved: tts_outputs/phrase_33.mp3\n",
      "Saved: tts_outputs/phrase_34.mp3\n",
      "Saved: tts_outputs/phrase_35.mp3\n",
      "Saved: tts_outputs/phrase_36.mp3\n",
      "Saved: tts_outputs/phrase_37.mp3\n",
      "Saved: tts_outputs/phrase_38.mp3\n",
      "Saved: tts_outputs/phrase_39.mp3\n",
      "Saved: tts_outputs/phrase_40.mp3\n",
      "Saved: tts_outputs/phrase_41.mp3\n",
      "Saved: tts_outputs/phrase_42.mp3\n"
     ]
    }
   ],
   "source": [
    "# tts_script.py\n",
    "from gtts import gTTS\n",
    "from playsound import playsound\n",
    "import os\n",
    "\n",
    "# 문구 리스트\n",
    "phrases = [\n",
    "    \"차량을 출발시켜 주세요.\",\n",
    "    \"차량을 멈춰 주세요.\",\n",
    "    \"신호등에서 정지하세요.\",\n",
    "    \"앞차와 안전 거리를 유지하세요.\",\n",
    "    \"좌회전하세요.\",\n",
    "    \"우회전하세요.\",\n",
    "    \"다음 교차로에서 좌회전하세요.\",\n",
    "    \"다음 교차로에서 우회전하세요.\",\n",
    "    \"왼쪽 차선으로 변경하세요.\",\n",
    "    \"오른쪽 차선으로 변경하세요.\",\n",
    "    \"차선 변경 시, 후방을 확인하세요.\",\n",
    "    \"신호가 녹색으로 바뀌었습니다. 출발하세요.\",\n",
    "    \"신호가 적색으로 바뀌었습니다. 정지하세요.\",\n",
    "    \"신호가 황색입니다. 주의하세요.\",\n",
    "    \"정지 신호가 있습니다. 완전히 정지하세요.\",\n",
    "    \"속도 제한은 시속 50킬로미터입니다.\",\n",
    "    \"보행자 횡단보도입니다. 주의하세요.\",\n",
    "    \"진입 금지 구역입니다.\",\n",
    "    \"평행 주차를 시도하세요.\",\n",
    "    \"후진 주차를 시도하세요.\",\n",
    "    \"주차 공간에 정확히 맞춰 주세요.\",\n",
    "    \"주차를 마치고 엔진을 꺼주세요.\",\n",
    "    \"후진 기어를 넣으세요.\",\n",
    "    \"후방을 확인하며 천천히 후진하세요.\",\n",
    "    \"후진 시, 왼쪽을 주시하세요.\",\n",
    "    \"고속도로에 진입하세요.\",\n",
    "    \"가속 차선을 사용하여 속도를 올리세요.\",\n",
    "    \"안전하게 차선을 변경하세요.\",\n",
    "    \"우회전 시, 오른쪽 거울을 확인하세요.\",\n",
    "    \"좌회전 시, 반대편 차선을 주의하세요.\",\n",
    "    \"비상등을 켜세요.\",\n",
    "    \"안전한 곳에 차를 멈추세요.\",\n",
    "    \"엔진에 이상이 있습니다. 점검이 필요합니다.\",\n",
    "    \"타이어에 문제가 발생했습니다. 교체가 필요합니다.\",\n",
    "    \"항상 안전벨트를 착용하세요.\",\n",
    "    \"교통 법규를 준수하세요.\",\n",
    "    \"주변 차량과의 거리를 유지하세요.\",\n",
    "    \"졸음운전을 피하세요.\",\n",
    "    \"연습을 시작합니다. 준비되셨나요?\",\n",
    "    \"좋아요, 이번에는 후진 주차를 연습해볼까요?\",\n",
    "    \"훌륭합니다! 다음 단계로 넘어가겠습니다.\",\n",
    "    \"연습을 종료합니다. 수고하셨습니다.\"\n",
    "]\n",
    "\n",
    "# 음성 파일을 저장할 디렉토리\n",
    "if not os.path.exists(\"tts_outputs\"):\n",
    "    os.makedirs(\"tts_outputs\")\n",
    "\n",
    "# 문구를 음성으로 변환하여 저장\n",
    "for idx, phrase in enumerate(phrases):\n",
    "    tts = gTTS(text=phrase, lang='ko')\n",
    "    output_path = f\"tts_outputs/phrase_{idx+1}.mp3\"\n",
    "    tts.save(output_path)\n",
    "    print(f\"Saved: {output_path}\")\n"
   ]
  },
  {
   "cell_type": "code",
   "execution_count": 6,
   "id": "c70a9e7b",
   "metadata": {},
   "outputs": [],
   "source": [
    "# tts_script.py\n",
    "\n",
    "def play_audio(file_path):\n",
    "    playsound(file_path)\n",
    "\n",
    "# 테스트: 첫 번째 문구 재생\n",
    "play_audio(\"tts_outputs/phrase_42.mp3\")\n"
   ]
  },
  {
   "cell_type": "code",
   "execution_count": null,
   "id": "5df0d839",
   "metadata": {},
   "outputs": [],
   "source": []
  },
  {
   "cell_type": "code",
   "execution_count": null,
   "id": "b7f23c5c",
   "metadata": {},
   "outputs": [],
   "source": []
  },
  {
   "cell_type": "code",
   "execution_count": null,
   "id": "16a8bc2e",
   "metadata": {},
   "outputs": [],
   "source": []
  },
  {
   "cell_type": "code",
   "execution_count": null,
   "id": "1d6c44a5",
   "metadata": {},
   "outputs": [],
   "source": []
  }
 ],
 "metadata": {
  "kernelspec": {
   "display_name": "deep",
   "language": "python",
   "name": "python3"
  },
  "language_info": {
   "codemirror_mode": {
    "name": "ipython",
    "version": 3
   },
   "file_extension": ".py",
   "mimetype": "text/x-python",
   "name": "python",
   "nbconvert_exporter": "python",
   "pygments_lexer": "ipython3",
   "version": "3.12.4"
  }
 },
 "nbformat": 4,
 "nbformat_minor": 5
}
